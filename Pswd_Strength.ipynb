{
  "nbformat": 4,
  "nbformat_minor": 0,
  "metadata": {
    "colab": {
      "provenance": [],
      "authorship_tag": "ABX9TyMOCr4I4eEmgV0Ts/nzJhXQ",
      "include_colab_link": true
    },
    "kernelspec": {
      "name": "python3",
      "display_name": "Python 3"
    },
    "language_info": {
      "name": "python"
    },
    "widgets": {
      "application/vnd.jupyter.widget-state+json": {
        "2e40c2d029664f0193bbf329301616a5": {
          "model_module": "@jupyter-widgets/controls",
          "model_name": "TextModel",
          "model_module_version": "1.5.0",
          "state": {
            "_dom_classes": [],
            "_model_module": "@jupyter-widgets/controls",
            "_model_module_version": "1.5.0",
            "_model_name": "TextModel",
            "_view_count": null,
            "_view_module": "@jupyter-widgets/controls",
            "_view_module_version": "1.5.0",
            "_view_name": "TextView",
            "continuous_update": true,
            "description": "Password:",
            "description_tooltip": null,
            "disabled": false,
            "layout": "IPY_MODEL_9b636c90453545c5bd29d08a7edb5aec",
            "placeholder": "Enter password here",
            "style": "IPY_MODEL_cf67f8e85497452d9ee0df723ad885bb",
            "value": "yd\\Y$IHGwlPe"
          }
        },
        "9b636c90453545c5bd29d08a7edb5aec": {
          "model_module": "@jupyter-widgets/base",
          "model_name": "LayoutModel",
          "model_module_version": "1.2.0",
          "state": {
            "_model_module": "@jupyter-widgets/base",
            "_model_module_version": "1.2.0",
            "_model_name": "LayoutModel",
            "_view_count": null,
            "_view_module": "@jupyter-widgets/base",
            "_view_module_version": "1.2.0",
            "_view_name": "LayoutView",
            "align_content": null,
            "align_items": null,
            "align_self": null,
            "border": null,
            "bottom": null,
            "display": null,
            "flex": null,
            "flex_flow": null,
            "grid_area": null,
            "grid_auto_columns": null,
            "grid_auto_flow": null,
            "grid_auto_rows": null,
            "grid_column": null,
            "grid_gap": null,
            "grid_row": null,
            "grid_template_areas": null,
            "grid_template_columns": null,
            "grid_template_rows": null,
            "height": null,
            "justify_content": null,
            "justify_items": null,
            "left": null,
            "margin": null,
            "max_height": null,
            "max_width": null,
            "min_height": null,
            "min_width": null,
            "object_fit": null,
            "object_position": null,
            "order": null,
            "overflow": null,
            "overflow_x": null,
            "overflow_y": null,
            "padding": null,
            "right": null,
            "top": null,
            "visibility": null,
            "width": null
          }
        },
        "cf67f8e85497452d9ee0df723ad885bb": {
          "model_module": "@jupyter-widgets/controls",
          "model_name": "DescriptionStyleModel",
          "model_module_version": "1.5.0",
          "state": {
            "_model_module": "@jupyter-widgets/controls",
            "_model_module_version": "1.5.0",
            "_model_name": "DescriptionStyleModel",
            "_view_count": null,
            "_view_module": "@jupyter-widgets/base",
            "_view_module_version": "1.2.0",
            "_view_name": "StyleView",
            "description_width": ""
          }
        },
        "0ecc142227f94f6c8f4e8e6d316e8583": {
          "model_module": "@jupyter-widgets/controls",
          "model_name": "ButtonModel",
          "model_module_version": "1.5.0",
          "state": {
            "_dom_classes": [],
            "_model_module": "@jupyter-widgets/controls",
            "_model_module_version": "1.5.0",
            "_model_name": "ButtonModel",
            "_view_count": null,
            "_view_module": "@jupyter-widgets/controls",
            "_view_module_version": "1.5.0",
            "_view_name": "ButtonView",
            "button_style": "",
            "description": "Check Password Strength",
            "disabled": false,
            "icon": "",
            "layout": "IPY_MODEL_4ebd0d777dd04f399fb312379db4aae4",
            "style": "IPY_MODEL_0f6b5a7664ae4aba89f8dac7b0f5369c",
            "tooltip": ""
          }
        },
        "4ebd0d777dd04f399fb312379db4aae4": {
          "model_module": "@jupyter-widgets/base",
          "model_name": "LayoutModel",
          "model_module_version": "1.2.0",
          "state": {
            "_model_module": "@jupyter-widgets/base",
            "_model_module_version": "1.2.0",
            "_model_name": "LayoutModel",
            "_view_count": null,
            "_view_module": "@jupyter-widgets/base",
            "_view_module_version": "1.2.0",
            "_view_name": "LayoutView",
            "align_content": null,
            "align_items": null,
            "align_self": null,
            "border": null,
            "bottom": null,
            "display": null,
            "flex": null,
            "flex_flow": null,
            "grid_area": null,
            "grid_auto_columns": null,
            "grid_auto_flow": null,
            "grid_auto_rows": null,
            "grid_column": null,
            "grid_gap": null,
            "grid_row": null,
            "grid_template_areas": null,
            "grid_template_columns": null,
            "grid_template_rows": null,
            "height": null,
            "justify_content": null,
            "justify_items": null,
            "left": null,
            "margin": null,
            "max_height": null,
            "max_width": null,
            "min_height": null,
            "min_width": null,
            "object_fit": null,
            "object_position": null,
            "order": null,
            "overflow": null,
            "overflow_x": null,
            "overflow_y": null,
            "padding": null,
            "right": null,
            "top": null,
            "visibility": null,
            "width": null
          }
        },
        "0f6b5a7664ae4aba89f8dac7b0f5369c": {
          "model_module": "@jupyter-widgets/controls",
          "model_name": "ButtonStyleModel",
          "model_module_version": "1.5.0",
          "state": {
            "_model_module": "@jupyter-widgets/controls",
            "_model_module_version": "1.5.0",
            "_model_name": "ButtonStyleModel",
            "_view_count": null,
            "_view_module": "@jupyter-widgets/base",
            "_view_module_version": "1.2.0",
            "_view_name": "StyleView",
            "button_color": null,
            "font_weight": ""
          }
        },
        "cd07d7dc403849898c2131d262a3955e": {
          "model_module": "@jupyter-widgets/controls",
          "model_name": "ButtonModel",
          "model_module_version": "1.5.0",
          "state": {
            "_dom_classes": [],
            "_model_module": "@jupyter-widgets/controls",
            "_model_module_version": "1.5.0",
            "_model_name": "ButtonModel",
            "_view_count": null,
            "_view_module": "@jupyter-widgets/controls",
            "_view_module_version": "1.5.0",
            "_view_name": "ButtonView",
            "button_style": "",
            "description": "Generate Strong Password",
            "disabled": false,
            "icon": "",
            "layout": "IPY_MODEL_471b016f3bb443a6a9cda4854839b493",
            "style": "IPY_MODEL_00dce5eb8ce240dea6336639ebe5cd5b",
            "tooltip": ""
          }
        },
        "471b016f3bb443a6a9cda4854839b493": {
          "model_module": "@jupyter-widgets/base",
          "model_name": "LayoutModel",
          "model_module_version": "1.2.0",
          "state": {
            "_model_module": "@jupyter-widgets/base",
            "_model_module_version": "1.2.0",
            "_model_name": "LayoutModel",
            "_view_count": null,
            "_view_module": "@jupyter-widgets/base",
            "_view_module_version": "1.2.0",
            "_view_name": "LayoutView",
            "align_content": null,
            "align_items": null,
            "align_self": null,
            "border": null,
            "bottom": null,
            "display": null,
            "flex": null,
            "flex_flow": null,
            "grid_area": null,
            "grid_auto_columns": null,
            "grid_auto_flow": null,
            "grid_auto_rows": null,
            "grid_column": null,
            "grid_gap": null,
            "grid_row": null,
            "grid_template_areas": null,
            "grid_template_columns": null,
            "grid_template_rows": null,
            "height": null,
            "justify_content": null,
            "justify_items": null,
            "left": null,
            "margin": null,
            "max_height": null,
            "max_width": null,
            "min_height": null,
            "min_width": null,
            "object_fit": null,
            "object_position": null,
            "order": null,
            "overflow": null,
            "overflow_x": null,
            "overflow_y": null,
            "padding": null,
            "right": null,
            "top": null,
            "visibility": null,
            "width": null
          }
        },
        "00dce5eb8ce240dea6336639ebe5cd5b": {
          "model_module": "@jupyter-widgets/controls",
          "model_name": "ButtonStyleModel",
          "model_module_version": "1.5.0",
          "state": {
            "_model_module": "@jupyter-widgets/controls",
            "_model_module_version": "1.5.0",
            "_model_name": "ButtonStyleModel",
            "_view_count": null,
            "_view_module": "@jupyter-widgets/base",
            "_view_module_version": "1.2.0",
            "_view_name": "StyleView",
            "button_color": null,
            "font_weight": ""
          }
        },
        "804132b08c3e4d86b8d66ce0231a59bf": {
          "model_module": "@jupyter-widgets/output",
          "model_name": "OutputModel",
          "model_module_version": "1.0.0",
          "state": {
            "_dom_classes": [],
            "_model_module": "@jupyter-widgets/output",
            "_model_module_version": "1.0.0",
            "_model_name": "OutputModel",
            "_view_count": null,
            "_view_module": "@jupyter-widgets/output",
            "_view_module_version": "1.0.0",
            "_view_name": "OutputView",
            "layout": "IPY_MODEL_0532265910f940878eeab2f589116b10",
            "msg_id": "",
            "outputs": [
              {
                "output_type": "stream",
                "name": "stdout",
                "text": [
                  "Generated Password: yd\\Y$IHGwlPe\n",
                  "\n",
                  "Password has:\n",
                  "5 lowercase letters\n",
                  "5 uppercase letters\n",
                  "0 digits\n",
                  "0 whitespaces\n",
                  "2 special characters\n",
                  "Password Score: 3/5\n",
                  "Remarks: Moderate password, but could be stronger.\n"
                ]
              }
            ]
          }
        },
        "0532265910f940878eeab2f589116b10": {
          "model_module": "@jupyter-widgets/base",
          "model_name": "LayoutModel",
          "model_module_version": "1.2.0",
          "state": {
            "_model_module": "@jupyter-widgets/base",
            "_model_module_version": "1.2.0",
            "_model_name": "LayoutModel",
            "_view_count": null,
            "_view_module": "@jupyter-widgets/base",
            "_view_module_version": "1.2.0",
            "_view_name": "LayoutView",
            "align_content": null,
            "align_items": null,
            "align_self": null,
            "border": null,
            "bottom": null,
            "display": null,
            "flex": null,
            "flex_flow": null,
            "grid_area": null,
            "grid_auto_columns": null,
            "grid_auto_flow": null,
            "grid_auto_rows": null,
            "grid_column": null,
            "grid_gap": null,
            "grid_row": null,
            "grid_template_areas": null,
            "grid_template_columns": null,
            "grid_template_rows": null,
            "height": null,
            "justify_content": null,
            "justify_items": null,
            "left": null,
            "margin": null,
            "max_height": null,
            "max_width": null,
            "min_height": null,
            "min_width": null,
            "object_fit": null,
            "object_position": null,
            "order": null,
            "overflow": null,
            "overflow_x": null,
            "overflow_y": null,
            "padding": null,
            "right": null,
            "top": null,
            "visibility": null,
            "width": null
          }
        }
      }
    }
  },
  "cells": [
    {
      "cell_type": "markdown",
      "metadata": {
        "id": "view-in-github",
        "colab_type": "text"
      },
      "source": [
        "<a href=\"https://colab.research.google.com/github/rahulsingh7111711/Pswd_Check/blob/main/Pswd_Strength.ipynb\" target=\"_parent\"><img src=\"https://colab.research.google.com/assets/colab-badge.svg\" alt=\"Open In Colab\"/></a>"
      ]
    },
    {
      "cell_type": "code",
      "execution_count": null,
      "metadata": {
        "colab": {
          "base_uri": "https://localhost:8080/",
          "height": 287,
          "referenced_widgets": [
            "2e40c2d029664f0193bbf329301616a5",
            "9b636c90453545c5bd29d08a7edb5aec",
            "cf67f8e85497452d9ee0df723ad885bb",
            "0ecc142227f94f6c8f4e8e6d316e8583",
            "4ebd0d777dd04f399fb312379db4aae4",
            "0f6b5a7664ae4aba89f8dac7b0f5369c",
            "cd07d7dc403849898c2131d262a3955e",
            "471b016f3bb443a6a9cda4854839b493",
            "00dce5eb8ce240dea6336639ebe5cd5b",
            "804132b08c3e4d86b8d66ce0231a59bf",
            "0532265910f940878eeab2f589116b10"
          ]
        },
        "id": "slpih17s5AAW",
        "outputId": "52d372e8-b793-41fb-855d-cfb04bf93d20"
      },
      "outputs": [
        {
          "output_type": "display_data",
          "data": {
            "text/plain": [
              "Text(value='', description='Password:', placeholder='Enter password here')"
            ],
            "application/vnd.jupyter.widget-view+json": {
              "version_major": 2,
              "version_minor": 0,
              "model_id": "2e40c2d029664f0193bbf329301616a5"
            }
          },
          "metadata": {}
        },
        {
          "output_type": "display_data",
          "data": {
            "text/plain": [
              "Button(description='Check Password Strength', style=ButtonStyle())"
            ],
            "application/vnd.jupyter.widget-view+json": {
              "version_major": 2,
              "version_minor": 0,
              "model_id": "0ecc142227f94f6c8f4e8e6d316e8583"
            }
          },
          "metadata": {}
        },
        {
          "output_type": "display_data",
          "data": {
            "text/plain": [
              "Button(description='Generate Strong Password', style=ButtonStyle())"
            ],
            "application/vnd.jupyter.widget-view+json": {
              "version_major": 2,
              "version_minor": 0,
              "model_id": "cd07d7dc403849898c2131d262a3955e"
            }
          },
          "metadata": {}
        },
        {
          "output_type": "display_data",
          "data": {
            "text/plain": [
              "Output()"
            ],
            "application/vnd.jupyter.widget-view+json": {
              "version_major": 2,
              "version_minor": 0,
              "model_id": "804132b08c3e4d86b8d66ce0231a59bf"
            }
          },
          "metadata": {}
        }
      ],
      "source": [
        "import string\n",
        "import secrets\n",
        "import ipywidgets as widgets\n",
        "from IPython.display import display, clear_output\n",
        "\n",
        "# Password strength checker function\n",
        "def check_password_strength(password):\n",
        "    strength = 0\n",
        "    remarks = ''\n",
        "    lower_count = upper_count = num_count = wspace_count = special_count = 0\n",
        "\n",
        "    for char in password:\n",
        "        if char in string.ascii_lowercase:\n",
        "            lower_count += 1\n",
        "        elif char in string.ascii_uppercase:\n",
        "            upper_count += 1\n",
        "        elif char in string.digits:\n",
        "            num_count += 1\n",
        "        elif char == ' ':\n",
        "            wspace_count += 1\n",
        "        else:\n",
        "            special_count += 1\n",
        "\n",
        "    if lower_count >= 1:\n",
        "        strength += 1\n",
        "    if upper_count >= 1:\n",
        "        strength += 1\n",
        "    if num_count >= 1:\n",
        "        strength += 1\n",
        "    if wspace_count >= 1:\n",
        "        strength += 1\n",
        "    if special_count >= 1:\n",
        "        strength += 1\n",
        "\n",
        "    if strength == 1:\n",
        "        remarks = 'Very weak password. Consider changing it.'\n",
        "    elif strength == 2:\n",
        "        remarks = 'Weak password. Consider a stronger one.'\n",
        "    elif strength == 3:\n",
        "        remarks = 'Moderate password, but could be stronger.'\n",
        "    elif strength == 4:\n",
        "        remarks = 'Strong password, but could be improved.'\n",
        "    elif strength == 5:\n",
        "        remarks = 'Very strong password!'\n",
        "\n",
        "    result = (f'Password has:\\n'\n",
        "              f'{lower_count} lowercase letters\\n'\n",
        "              f'{upper_count} uppercase letters\\n'\n",
        "              f'{num_count} digits\\n'\n",
        "              f'{wspace_count} whitespaces\\n'\n",
        "              f'{special_count} special characters\\n'\n",
        "              f'Password Score: {strength}/5\\n'\n",
        "              f'Remarks: {remarks}')\n",
        "\n",
        "    return result\n",
        "\n",
        "# Password generator function\n",
        "def generate_password():\n",
        "    password = ''.join(secrets.choice(string.ascii_letters + string.digits + string.punctuation) for _ in range(12))\n",
        "    return password\n",
        "\n",
        "# Display area for results\n",
        "output = widgets.Output()\n",
        "\n",
        "# Functions for button actions\n",
        "def check_strength_action(button):\n",
        "    password = password_input.value\n",
        "    result = check_password_strength(password)\n",
        "    with output:\n",
        "        clear_output()\n",
        "        print(result)\n",
        "\n",
        "def generate_password_action(button):\n",
        "    new_password = generate_password()\n",
        "    password_input.value = new_password\n",
        "    result = check_password_strength(new_password)\n",
        "    with output:\n",
        "        clear_output()\n",
        "        print(f\"Generated Password: {new_password}\\n\\n{result}\")\n",
        "\n",
        "# Widgets setup\n",
        "password_input = widgets.Text(value='', description='Password:', placeholder='Enter password here')\n",
        "check_button = widgets.Button(description=\"Check Password Strength\")\n",
        "generate_button = widgets.Button(description=\"Generate Strong Password\")\n",
        "\n",
        "# Button on-click event handlers\n",
        "check_button.on_click(check_strength_action)\n",
        "generate_button.on_click(generate_password_action)\n",
        "\n",
        "# Display widgets and output\n",
        "display(password_input, check_button, generate_button, output)\n"
      ]
    },
    {
      "cell_type": "code",
      "source": [],
      "metadata": {
        "id": "XfJg2hA55CJ0"
      },
      "execution_count": null,
      "outputs": []
    }
  ]
}